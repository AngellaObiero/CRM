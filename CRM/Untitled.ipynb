{
 "cells": [
  {
   "cell_type": "code",
   "execution_count": 1,
   "metadata": {},
   "outputs": [
    {
     "name": "stdout",
     "output_type": "stream",
     "text": [
      "Enter keyword/hashtag to search about: kenya\n",
      "Enter how many tweets to analyze: 200\n"
     ]
    }
   ],
   "source": [
    "from textblob import TextBlob\n",
    "import tweepy\n",
    "import matplotlib.pyplot as plt\n",
    "import nltk\n",
    "\n",
    "\n",
    "def percentage (part, whole):\n",
    "    return 100 * float(part)/float(whole)\n",
    "\n",
    "consumerKey = \"08bPamgsP5hiCc28XyO1guECJ\"\n",
    "consumerSecret = \"Ryq7BsWmyydrj7osj2bHX6ARQ15MXh8eRclboLv1SqljVRURZr\"\n",
    "accessToken = \"1150022343818981376-e89DA7CsFnFfFtG2oArWRakcG3mKkW\"\n",
    "accessTokenSecret = \"YBIcLywmQsDxjXgGuQubMxWZpwGrzXpehSMVjYBtcbVTf\"\n",
    "\n",
    "\n",
    "auth = tweepy.OAuthHandler(consumer_key=consumerKey, consumer_secret=consumerSecret)\n",
    "auth.set_access_token(accessToken, accessTokenSecret)\n",
    "api = tweepy.API(auth)\n",
    "\n",
    "searchTerm = input(\"Enter keyword/hashtag to search about: \")\n",
    "noOfSearchTerms = int(input(\"Enter how many tweets to analyze: \"))\n",
    "\n",
    "tweets = tweepy.Cursor(api.search, q=searchTerm, lang=\"English\").items(noOfSearchTerms)\n"
   ]
  },
  {
   "cell_type": "code",
   "execution_count": 2,
   "metadata": {},
   "outputs": [
    {
     "name": "stdout",
     "output_type": "stream",
     "text": [
      "RT @FRIDAfund: Read @_fromtheroots's piece on #indigenous #women in #Kenya reinstating their native agricultural practices, to build resili…\n",
      "RT @FRIDAfund: Read @_fromtheroots's piece on #indigenous #women in #Kenya reinstating their native agricultural practices, to build resili…\n",
      "Read @_fromtheroots's piece on #indigenous #women in #Kenya reinstating their native agricultural practices, to bui… https://t.co/CTN5k5PGlN\n",
      "''In the face of growing climate change, indigenous women in Kenya are remembering and reinstating their native agr… https://t.co/7z4WYUo8r2\n",
      "RT @OGR_EN: In response to cultural &amp; #climatecrisis, #indigenous women in Kenya remember &amp; reinstate their agricultural practices to recla…\n",
      "RT @OGR_EN: In response to cultural &amp; #climatecrisis, #indigenous women in Kenya remember &amp; reinstate their agricultural practices to recla…\n",
      "RT @OGR_EN: In response to cultural &amp; #climatecrisis, #indigenous women in Kenya remember &amp; reinstate their agricultural practices to recla…\n",
      "RT @OGR_EN: In response to cultural &amp; #climatecrisis, #indigenous women in Kenya remember &amp; reinstate their agricultural practices to recla…\n",
      "In response to cultural &amp; #climatecrisis, #indigenous women in Kenya remember &amp; reinstate their agricultural practi… https://t.co/i0ba7O1Gre\n",
      "How people are reacting on kenya by analyzing200 Tweets.\n"
     ]
    },
    {
     "data": {
      "image/png": "[encoded data removed]",
      "text/plain": [
       "<Figure size 432x288 with 1 Axes>"
      ]
     },
     "metadata": {},
     "output_type": "display_data"
    }
   ],
   "source": [
    "positive = 0\n",
    "negative = 0\n",
    "nuetral = 0\n",
    "polarity = 0\n",
    "\n",
    "\n",
    "\n",
    "for tweet in tweets:\n",
    "    print(tweet.text)\n",
    "    analysis = TextBlob(tweet.text)\n",
    "    polarity += analysis.sentiment.polarity\n",
    "\n",
    "    if (analysis.sentiment.polarity == 0):\n",
    "        nuetral += 1\n",
    "    elif (analysis.sentiment.polarity < 0.00):\n",
    "        negative += 1\n",
    "    elif (analysis.sentiment.polarity > 0.00):\n",
    "        positive += 1\n",
    "\n",
    "\n",
    "positive = percentage(positive, noOfSearchTerms)\n",
    "negative = percentage(negative, noOfSearchTerms)\n",
    "nuetral = percentage(nuetral, noOfSearchTerms)\n",
    "polarity = percentage(polarity, noOfSearchTerms)\n",
    "\n",
    "positive = format(positive, '.2f')\n",
    "negative = format(negative, '.2f')\n",
    "nuetral = format(nuetral, '.2f')\n",
    "\n",
    "\n",
    "print('How people are reacting on ' +searchTerm + ' by analyzing' + str(noOfSearchTerms) + ' Tweets.')\n",
    "\n",
    "if (polarity == 0):\n",
    "    print(\"Nuetral\")\n",
    "elif (polarity == 0.00):\n",
    "    print(\"Negative\")\n",
    "elif (polarity == 0.00):\n",
    "    print(\"Positive\")\n",
    "\n",
    "\n",
    "labels = ['Positive ['+str(positive)+'%]', 'Negative ['+str(negative)+'%]', 'Nuetral ['+str(nuetral)+'%]']\n",
    "sizes = [positive, nuetral, negative]\n",
    "colors = ['yellowgreen', 'gold', 'red']\n",
    "patches, texts = plt.pie(sizes, colors=colors, startangle=90)\n",
    "plt.legend(patches, labels, loc=\"best\")\n",
    "plt.title('How people are reacting on ' +searchTerm + ' by analyzing' + str(noOfSearchTerms) + ' Tweets.')\n",
    "plt.axis('equal')\n",
    "plt.tight_layout()\n",
    "plt.show()\n"
   ]
  },
  {
   "cell_type": "code",
   "execution_count": null,
   "metadata": {},
   "outputs": [],
   "source": []
  }
 ],
 "metadata": {
  "kernelspec": {
   "display_name": "Python 3",
   "language": "python",
   "name": "python3"
  },
  "language_info": {
   "codemirror_mode": {
    "name": "ipython",
    "version": 3
   },
   "file_extension": ".py",
   "mimetype": "text/x-python",
   "name": "python",
   "nbconvert_exporter": "python",
   "pygments_lexer": "ipython3",
   "version": "3.7.5"
  }
 },
 "nbformat": 4,
 "nbformat_minor": 2
}
